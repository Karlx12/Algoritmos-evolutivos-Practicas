{
 "cells": [
  {
   "cell_type": "markdown",
   "metadata": {},
   "source": [
    "# Ejercicio 1: ¿Dónde compro mi café?\n",
    "# ----------------------------------"
   ]
  },
  {
   "cell_type": "code",
   "execution_count": 1,
   "metadata": {},
   "outputs": [
    {
     "name": "stdout",
     "output_type": "stream",
     "text": [
      "=== Resultados Ejercicio Café ===\n",
      "Cafetería A: precio S/ 2.50 → puede comprar 4 cafés\n",
      "\n",
      "Con S/ 10.00 obtienes la mayor cantidad de cafés (5) en la cafetería C.\n",
      "El precio más bajo es S/ 1.75 en la cafetería C.\n",
      "Cafetería B: precio S/ 3.00 → puede comprar 3 cafés\n",
      "\n",
      "Con S/ 10.00 obtienes la mayor cantidad de cafés (5) en la cafetería C.\n",
      "El precio más bajo es S/ 1.75 en la cafetería C.\n",
      "Cafetería C: precio S/ 1.75 → puede comprar 5 cafés\n",
      "\n",
      "Con S/ 10.00 obtienes la mayor cantidad de cafés (5) en la cafetería C.\n",
      "El precio más bajo es S/ 1.75 en la cafetería C.\n",
      "Cafetería D: precio S/ 2.20 → puede comprar 4 cafés\n",
      "\n",
      "Con S/ 10.00 obtienes la mayor cantidad de cafés (5) en la cafetería C.\n",
      "El precio más bajo es S/ 1.75 en la cafetería C.\n"
     ]
    }
   ],
   "source": [
    "import numpy as np\n",
    "# 1. Definimos el presupuesto disponible (S/ 10)\n",
    "presupuesto = 10.0\n",
    "# 2. Creamos un array con los precios de café en cada cafetería\n",
    "# A: 2.50, B: 3.00, C: 1.75, D: 2.20\n",
    "precios = np.array([2.50, 3.00, 1.75, 2.20])\n",
    "# 3. Calculamos cuántos cafés puede comprar en cada cafetería\n",
    "# np.floor realiza la división y redondea hacia abajo al entero más próximo\n",
    "max_cafes = np.floor(presupuesto / precios)\n",
    "# 4. Encontramos la mayor cantidad de cafés posibles\n",
    "# max_cafes.max() devuelve el valor máximo de cafés\n",
    "# max_cafes.argmax() devuelve el índice (0-3) donde se alcanza ese máximo\n",
    "cantidad_max = int(max_cafes.max())\n",
    "indice_max = int(max_cafes.argmax())\n",
    "# 5. Determinamos el precio mínimo y su índice\n",
    "precio_min = precios.min()\n",
    "indice_precio_min = int(precios.argmin())\n",
    "# 6. Mapeo de índices a nombres de cafetería\n",
    "nombres = ['A', 'B', 'C', 'D']\n",
    "# 7. Imprimimos los resultados\n",
    "print(\"=== Resultados Ejercicio Café ===\")\n",
    "for i, nombre in enumerate(nombres):\n",
    "    print(f\"Cafetería {nombre}: precio S/ {precios[i]:.2f} → puede comprar {int(max_cafes[i])} cafés\")\n",
    "    print(f\"\\nCon S/ {presupuesto:.2f} obtienes la mayor cantidad de cafés ({cantidad_max}) en la cafetería {nombres[indice_max]}.\")\n",
    "    print(f\"El precio más bajo es S/ {precio_min:.2f} en la cafetería {nombres[indice_precio_min]}.\")"
   ]
  }
 ],
 "metadata": {
  "kernelspec": {
   "display_name": ".venv",
   "language": "python",
   "name": "python3"
  },
  "language_info": {
   "codemirror_mode": {
    "name": "ipython",
    "version": 3
   },
   "file_extension": ".py",
   "mimetype": "text/x-python",
   "name": "python",
   "nbconvert_exporter": "python",
   "pygments_lexer": "ipython3",
   "version": "3.13.3"
  }
 },
 "nbformat": 4,
 "nbformat_minor": 2
}
