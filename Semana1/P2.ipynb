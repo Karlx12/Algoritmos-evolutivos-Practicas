{
 "cells": [
  {
   "cell_type": "markdown",
   "metadata": {},
   "source": [
    "# Ejercicio 2: Control de horas de laboratorio"
   ]
  },
  {
   "cell_type": "code",
   "execution_count": 1,
   "metadata": {},
   "outputs": [
    {
     "name": "stdout",
     "output_type": "stream",
     "text": [
      "=== DataFrame de uso de laboratorio ===\n",
      "  Estudiante  Horas_usadas  Costo_total\n",
      "0        Ana             3          6.0\n",
      "1       Luis             5         10.0\n",
      "2      María             2          4.0\n",
      "3       Juan             4          8.0\n",
      "4      Carla             1          2.0\n",
      "\n",
      "=== Estadísticas de Costo_total ===\n",
      "count     5.000000\n",
      "mean      6.000000\n",
      "std       3.162278\n",
      "min       2.000000\n",
      "25%       4.000000\n",
      "50%       6.000000\n",
      "75%       8.000000\n",
      "max      10.000000\n",
      "Name: Costo_total, dtype: float64\n",
      "\n",
      "El gasto promedio por estudiante fue de S/ 6.00.\n",
      "Estudiantes que gastaron más de S/ 6.00:\n",
      " - Luis\n",
      " - Juan\n"
     ]
    }
   ],
   "source": [
    "import pandas as pd\n",
    "# 1. Construimos el diccionario de datos\n",
    "datos = {\n",
    "'Estudiante': ['Ana', 'Luis', 'María', 'Juan', 'Carla'],\n",
    "'Horas_usadas': [3, 5, 2, 4, 1]\n",
    "}\n",
    "# 2. Convertimos el diccionario en un DataFrame de Pandas\n",
    "df = pd.DataFrame(datos)\n",
    "# 3. Calculamos el costo total por estudiante (S/ 2.00 por hora)\n",
    "# Creamos una nueva columna 'Costo_total'\n",
    "df['Costo_total'] = df['Horas_usadas'] * 2.0\n",
    "# 4. Mostramos el DataFrame completo\n",
    "print(\"=== DataFrame de uso de laboratorio ===\")\n",
    "print(df)\n",
    "# 5. Estadísticas descriptivas de la columna 'Costo_total'\n",
    "# describe() devuelve conteo, media, std, min, percentiles y max\n",
    "stats = df['Costo_total'].describe()\n",
    "print(\"\\n=== Estadísticas de Costo_total ===\")\n",
    "print(stats)\n",
    "# 6. Filtramos los estudiantes con gasto mayor a S/ 6.00\n",
    "# Creamos un DataFrame con la condición df['Costo_total'] > 6.0\n",
    "df_mayor_6 = df[df['Costo_total'] > 6.0]\n",
    "# 7. Imprimimos el gasto promedio y la lista de estudiantes con gasto > S/6.00\n",
    "gasto_promedio = stats['mean']\n",
    "lista_altos = df_mayor_6['Estudiante'].tolist()\n",
    "print(f\"\\nEl gasto promedio por estudiante fue de S/ {gasto_promedio:.2f}.\")\n",
    "print(\"Estudiantes que gastaron más de S/ 6.00:\")\n",
    "for alumno in lista_altos:\n",
    "    print(f\" - {alumno}\")"
   ]
  }
 ],
 "metadata": {
  "kernelspec": {
   "display_name": ".venv",
   "language": "python",
   "name": "python3"
  },
  "language_info": {
   "codemirror_mode": {
    "name": "ipython",
    "version": 3
   },
   "file_extension": ".py",
   "mimetype": "text/x-python",
   "name": "python",
   "nbconvert_exporter": "python",
   "pygments_lexer": "ipython3",
   "version": "3.13.3"
  }
 },
 "nbformat": 4,
 "nbformat_minor": 2
}
