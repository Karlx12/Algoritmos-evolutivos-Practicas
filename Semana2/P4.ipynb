{
 "cells": [
  {
   "cell_type": "markdown",
   "metadata": {},
   "source": [
    "4. GASTOS DE ALMUERZO SEMANAL\n",
    "\n",
    "• Contexto: Ana apunta lo que gasta cada día en el comedor universitario en\n",
    "una lista: [4.0, 3.5, 5.0, 4.2, 3.8] (de lunes a viernes).\n",
    "\n",
    "• Objetivo:\n",
    "\n",
    "1. Pasar esa lista a un DataFrame con columna Gasto.\n",
    "2. Calcular el gasto total y el gasto medio de la semana.\n",
    "3. Identificar los días en que gastó más que el promedio.\n",
    "\n",
    "• Pista: usa df['Gasto'].sum(), df['Gasto'].mean() y luego df[df['Gasto'] >\n",
    "df['Gasto'].mean()]."
   ]
  },
  {
   "cell_type": "code",
   "execution_count": 1,
   "metadata": {
    "vscode": {
     "languageId": "ruby"
    }
   },
   "outputs": [
    {
     "name": "stdout",
     "output_type": "stream",
     "text": [
      "DataFrame de gastos:\n",
      "         Día  Gasto\n",
      "0      Lunes    4.0\n",
      "1     Martes    3.5\n",
      "2  Miércoles    5.0\n",
      "3     Jueves    4.2\n",
      "4    Viernes    3.8\n",
      "\n",
      "Gasto total de la semana: 20.5\n",
      "Gasto promedio diario: 4.10\n",
      "\n",
      "Días con gasto mayor al promedio:\n",
      "         Día  Gasto\n",
      "2  Miércoles    5.0\n",
      "3     Jueves    4.2\n"
     ]
    }
   ],
   "source": [
    "import pandas as pd\n",
    "\n",
    "# 1. Crear DataFrame con los gastos\n",
    "gastos = [4.0, 3.5, 5.0, 4.2, 3.8]\n",
    "dias = ['Lunes', 'Martes', 'Miércoles', 'Jueves', 'Viernes']\n",
    "df = pd.DataFrame({'Día': dias, 'Gasto': gastos})\n",
    "print(\"DataFrame de gastos:\")\n",
    "print(df)\n",
    "\n",
    "# 2. Calcular gasto total y medio\n",
    "gasto_total = df['Gasto'].sum()\n",
    "gasto_promedio = df['Gasto'].mean()\n",
    "print(f\"\\nGasto total de la semana: {gasto_total}\")\n",
    "print(f\"Gasto promedio diario: {gasto_promedio:.2f}\")\n",
    "\n",
    "# 3. Identificar días con gasto mayor al promedio\n",
    "dias_mayor_gasto = df[df['Gasto'] > gasto_promedio]\n",
    "print(\"\\nDías con gasto mayor al promedio:\")\n",
    "print(dias_mayor_gasto)"
   ]
  },
  {
   "cell_type": "code",
   "execution_count": null,
   "metadata": {},
   "outputs": [],
   "source": []
  }
 ],
 "metadata": {
  "kernelspec": {
   "display_name": ".venv",
   "language": "python",
   "name": "python3"
  },
  "language_info": {
   "codemirror_mode": {
    "name": "ipython",
    "version": 3
   },
   "file_extension": ".py",
   "mimetype": "text/x-python",
   "name": "python",
   "nbconvert_exporter": "python",
   "pygments_lexer": "ipython3",
   "version": "3.13.3"
  }
 },
 "nbformat": 4,
 "nbformat_minor": 2
}
