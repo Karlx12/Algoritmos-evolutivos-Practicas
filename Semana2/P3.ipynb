{
 "cells": [
  {
   "cell_type": "markdown",
   "metadata": {},
   "source": [
    "3. PRÉSTAMO DE LIBROS EN LA BIBLIOTECA\n",
    "\n",
    "• Contexto: En la tabla tienes cinco compañeros y los días que retuvieron\n",
    "un libro:\n",
    "\n",
    "|Estudiante| Días_prestamo|\n",
    "|:----------|-------------:|\n",
    "|Rosa |7|\n",
    "|David |10|\n",
    "|Elena |5|\n",
    "|Mario |12|\n",
    "|Paula |3|\n",
    "\n",
    "• Objetivo:\n",
    "\n",
    "    1. Crear un DataFrame con esos datos.\n",
    "\n",
    "    2. Calcular el promedio y el máximo de días de préstamo.\n",
    "\n",
    "    3. Filtrar quiénes retuvieron el libro más de 8 días.\n",
    "\n",
    "• Pista: emplea df['Días_prestamo'].describe() para resumen y df[df['Días_prestamo'] > 8] para el filtro."
   ]
  },
  {
   "cell_type": "code",
   "execution_count": 3,
   "metadata": {
    "vscode": {
     "languageId": "ruby"
    }
   },
   "outputs": [
    {
     "name": "stdout",
     "output_type": "stream",
     "text": [
      "Promedio de días de préstamo: 7.4\n",
      "Máximo de días de préstamo: 12\n",
      "Estudiantes que retuvieron el libro más de 8 días:\n",
      "\n",
      "   Estudiante  Días_prestamo\n",
      "1      David             10\n",
      "3      Mario             12\n"
     ]
    }
   ],
   "source": [
    "import pandas as pd\n",
    "\n",
    "# Crear el DataFrame con los datos proporcionados\n",
    "data = {\n",
    "    'Estudiante': ['Rosa', 'David', 'Elena', 'Mario', 'Paula'],\n",
    "    'Días_prestamo': [7, 10, 5, 12, 3]\n",
    "}\n",
    "df = pd.DataFrame(data)\n",
    "\n",
    "# Calcular el promedio y el máximo de días de préstamo\n",
    "promedio = df['Días_prestamo'].mean()\n",
    "maximo = df['Días_prestamo'].max()\n",
    "\n",
    "# Filtrar quiénes retuvieron el libro más de 8 días\n",
    "filtro = df[df['Días_prestamo'] > 8]\n",
    "\n",
    "# Mostrar resultados\n",
    "print(\"Promedio de días de préstamo:\", promedio)\n",
    "print(\"Máximo de días de préstamo:\", maximo)\n",
    "print(\"Estudiantes que retuvieron el libro más de 8 días:\\n\\n\", filtro)\n"
   ]
  }
 ],
 "metadata": {
  "kernelspec": {
   "display_name": ".venv",
   "language": "python",
   "name": "python3"
  },
  "language_info": {
   "codemirror_mode": {
    "name": "ipython",
    "version": 3
   },
   "file_extension": ".py",
   "mimetype": "text/x-python",
   "name": "python",
   "nbconvert_exporter": "python",
   "pygments_lexer": "ipython3",
   "version": "3.13.3"
  }
 },
 "nbformat": 4,
 "nbformat_minor": 2
}
