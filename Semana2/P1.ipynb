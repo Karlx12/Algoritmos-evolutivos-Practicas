{
 "cells": [
  {
   "cell_type": "markdown",
   "metadata": {},
   "source": [
    "1. FOTOCOPIAS PARA APUNTES\n",
    "• Contexto: Martina tiene S/ 8 para fotocopiar sus apuntes. Hay tres copisterías\n",
    "cerca con precios por página: S/ 0.10, S/ 0.12 y S/ 0.08.\n",
    "• Objetivo:\n",
    "    1. Calcular cuántas páginas puede fotocopiar en cada copistería.\n",
    "    2. Identificar en cuál obtiene más páginas con su presupuesto.\n",
    "\n",
    "• Pista: usa np.floor para dividir el presupuesto por el precio y redondear hacia\n",
    "abajo, y argmax para hallar el índice de la mejor opción."
   ]
  },
  {
   "cell_type": "code",
   "execution_count": 4,
   "metadata": {},
   "outputs": [],
   "source": [
    "cash=8\n",
    "copisterias_precios= [0.1,0.12,0.8]\n",
    "copisterias_name= [\"A\", \"B\", \"C\"]\n"
   ]
  },
  {
   "cell_type": "code",
   "execution_count": 5,
   "metadata": {},
   "outputs": [
    {
     "name": "stdout",
     "output_type": "stream",
     "text": [
      "Copisteria:  A  Precio:  80.0  Copias:  80.0\n",
      "Copisteria:  B  Precio:  66.0  Copias:  66.0\n",
      "Copisteria:  C  Precio:  10.0  Copias:  10.0\n",
      "La opción con más copias es:  A\n"
     ]
    }
   ],
   "source": [
    "import numpy as np\n",
    "def max_pags_by_copisteria(cash, copisterias):\n",
    "    copisterias=copisterias.copy()\n",
    "    for i in range(len(copisterias)):\n",
    "        copisterias[i]=np.floor(cash/copisterias[i])\n",
    "    return copisterias\n",
    "\n",
    "copias_copisterias=max_pags_by_copisteria(cash, copisterias_precios)\n",
    "\n",
    "def eleccion_copisteria():\n",
    "    return np.argmax(copias_copisterias)\n",
    "for i in range(len(copisterias_name)):\n",
    "    print(\"Copisteria: \", copisterias_name[i], \" Precio: \", copisterias_precios[i], \" Copias: \", copias_copisterias[i])\n",
    "print(\"La opción con más copias es: \", copisterias_name[eleccion_copisteria()])\n",
    "\n"
   ]
  },
  {
   "cell_type": "markdown",
   "metadata": {},
   "source": []
  }
 ],
 "metadata": {
  "kernelspec": {
   "display_name": ".venv",
   "language": "python",
   "name": "python3"
  },
  "language_info": {
   "codemirror_mode": {
    "name": "ipython",
    "version": 3
   },
   "file_extension": ".py",
   "mimetype": "text/x-python",
   "name": "python",
   "nbconvert_exporter": "python",
   "pygments_lexer": "ipython3",
   "version": "3.13.3"
  }
 },
 "nbformat": 4,
 "nbformat_minor": 2
}
