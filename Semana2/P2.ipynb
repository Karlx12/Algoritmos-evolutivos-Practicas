{
 "cells": [
  {
   "cell_type": "markdown",
   "metadata": {},
   "source": [
    "2. VIAJES AL CAMPUS\n",
    "• Contexto: Carlos dispone de S/ 15 para transporte la próxima semana. Un pasaje\n",
    "de bus cuesta S/ 2.50, de combi S/ 3.00 y de tren S/ 1.80.\n",
    "• Objetivo:\n",
    "    1. Determinar cuántos viajes puede pagar con cada medio.\n",
    "    2. Hallar el medio de transporte que le permite más viajes.\n",
    "• Pista: crea un np.array de precios y usa array.max() y array.argmax()."
   ]
  },
  {
   "cell_type": "code",
   "execution_count": 6,
   "metadata": {},
   "outputs": [
    {
     "name": "stdout",
     "output_type": "stream",
     "text": [
      "Viajes posibes por cada trasporte: [6. 5. 8.]\n",
      "Transporte más conveniente: train con 8.0 viajes.\n"
     ]
    }
   ],
   "source": [
    "import numpy as np\n",
    "\n",
    "budget = 15\n",
    "prices = np.array([2.50, 3.00, 1.80])  \n",
    "\n",
    "trips = budget // prices\n",
    "\n",
    "\n",
    "max_trips = trips.max()\n",
    "best_transport_index = trips.argmax()\n",
    "transport_modes = ['bus', 'combi', 'train']\n",
    "\n",
    "print(f\"Viajes posibes por cada trasporte: {trips}\")\n",
    "print(f\"Transporte más conveniente: {transport_modes[best_transport_index]} con {max_trips} viajes.\")"
   ]
  },
  {
   "cell_type": "markdown",
   "metadata": {},
   "source": []
  }
 ],
 "metadata": {
  "kernelspec": {
   "display_name": ".venv",
   "language": "python",
   "name": "python3"
  },
  "language_info": {
   "codemirror_mode": {
    "name": "ipython",
    "version": 3
   },
   "file_extension": ".py",
   "mimetype": "text/x-python",
   "name": "python",
   "nbconvert_exporter": "python",
   "pygments_lexer": "ipython3",
   "version": "3.13.3"
  }
 },
 "nbformat": 4,
 "nbformat_minor": 2
}
