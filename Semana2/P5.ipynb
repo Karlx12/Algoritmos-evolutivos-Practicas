{
 "cells": [
  {
   "cell_type": "markdown",
   "metadata": {},
   "source": [
    "5. RECARGA DE DATOS MÓVILES\n",
    "\n",
    "Contexto: Juan tiene un plan de datos con distintos paquetes:\n",
    "\n",
    "|Paquete (GB) |Precio (S/ )|\n",
    "|------------|------------|\n",
    "|1 |5|\n",
    "|2 |9|\n",
    "|5 |20|\n",
    "|10 |35|\n",
    "\n",
    "• Objetivo:\n",
    "\n",
    "1. Con un array de NumPy, calcular el costo por GB para cada\n",
    "paquete.\n",
    "2. Encontrar el paquete más económico en precio por GB.\n",
    "\n",
    "• Pista: crea np.array para GB y para precios, luego divide y aplica min() y\n",
    "argmin()."
   ]
  },
  {
   "cell_type": "code",
   "execution_count": 1,
   "metadata": {},
   "outputs": [
    {
     "name": "stdout",
     "output_type": "stream",
     "text": [
      "Costo por GB por cada paquete:\n",
      "1 GB: S/ 5.00 per GB\n",
      "2 GB: S/ 4.50 per GB\n",
      "5 GB: S/ 4.00 per GB\n",
      "10 GB: S/ 3.50 per GB\n",
      "\n",
      " Paquete más economico 10 GB en S/ 35\n",
      "Con un costo de S/ 3.50 por GB\n"
     ]
    }
   ],
   "source": [
    "import numpy as np\n",
    "\n",
    "gb_packages = np.array([1, 2, 5, 10])\n",
    "prices = np.array([5, 9, 20, 35])\n",
    "\n",
    "\n",
    "cost_per_gb = prices / gb_packages\n",
    "print(\"Costo por GB por cada paquete:\")\n",
    "for i, cost in enumerate(cost_per_gb):\n",
    "    print(f\"{gb_packages[i]} GB: S/ {cost:.2f} per GB\")\n",
    "\n",
    "min_cost_index = np.argmin(cost_per_gb)\n",
    "min_cost = cost_per_gb[min_cost_index]\n",
    "\n",
    "print(f\"\\n Paquete más economico {gb_packages[min_cost_index]} GB en S/ {prices[min_cost_index]}\")\n",
    "print(f\"Con un costo de S/ {min_cost:.2f} por GB\")"
   ]
  },
  {
   "cell_type": "code",
   "execution_count": null,
   "metadata": {},
   "outputs": [],
   "source": []
  }
 ],
 "metadata": {
  "kernelspec": {
   "display_name": ".venv",
   "language": "python",
   "name": "python3"
  },
  "language_info": {
   "codemirror_mode": {
    "name": "ipython",
    "version": 3
   },
   "file_extension": ".py",
   "mimetype": "text/x-python",
   "name": "python",
   "nbconvert_exporter": "python",
   "pygments_lexer": "ipython3",
   "version": "3.13.3"
  }
 },
 "nbformat": 4,
 "nbformat_minor": 2
}
